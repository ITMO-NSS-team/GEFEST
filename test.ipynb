{
 "cells": [
  {
   "cell_type": "code",
   "execution_count": 2,
   "metadata": {},
   "outputs": [],
   "source": [
    "from gefest.core.structure.point import Point"
   ]
  },
  {
   "cell_type": "code",
   "execution_count": 3,
   "metadata": {},
   "outputs": [],
   "source": [
    "point = Point(1,2,3)"
   ]
  },
  {
   "cell_type": "code",
   "execution_count": 4,
   "metadata": {},
   "outputs": [
    {
     "name": "stdout",
     "output_type": "stream",
     "text": [
      "x = 1, y = 2\n"
     ]
    }
   ],
   "source": [
    "print('x = {}, y = {}'.format(point.x, point.y))"
   ]
  },
  {
   "cell_type": "code",
   "execution_count": 5,
   "metadata": {},
   "outputs": [],
   "source": [
    "from gefest.core.structure.point import Point\n",
    "from gefest.core.structure.polygon import Polygon"
   ]
  },
  {
   "cell_type": "code",
   "execution_count": 6,
   "metadata": {},
   "outputs": [],
   "source": [
    "points_triagle = [Point(0,0), Point(3,3), Point(3,0)]\n",
    "triangle = Polygon('triangle', points=points_triagle)"
   ]
  },
  {
   "cell_type": "code",
   "execution_count": 7,
   "metadata": {},
   "outputs": [
    {
     "data": {
      "text/plain": [
       "[Point(_x=0, _y=0, _z=0.0),\n",
       " Point(_x=3, _y=3, _z=0.0),\n",
       " Point(_x=3, _y=0, _z=0.0)]"
      ]
     },
     "execution_count": 7,
     "metadata": {},
     "output_type": "execute_result"
    }
   ],
   "source": [
    "triangle.points"
   ]
  },
  {
   "cell_type": "code",
   "execution_count": 8,
   "metadata": {},
   "outputs": [],
   "source": [
    "from gefest.core.structure.point import Point\n",
    "from gefest.core.structure.polygon import Polygon\n",
    "from gefest.core.structure.structure import Structure\n",
    "\n",
    "points_rect = [Point(4,0), Point(8,0), Point(8,4), Point(4,4), Point(4,0)]\n",
    "rectangle = Polygon('rectangle', points=points_rect)\n",
    "\n",
    "points_triagle = [Point(0,0), Point(3,3), Point(3,0), Point(0,0)]\n",
    "triangle = Polygon('triangle', points=points_triagle)\n",
    "\n",
    "struct = Structure([triangle, rectangle])"
   ]
  },
  {
   "cell_type": "code",
   "execution_count": 9,
   "metadata": {},
   "outputs": [
    {
     "data": {
      "image/png": "[encoded data removed]",
      "text/plain": [
       "<Figure size 432x288 with 1 Axes>"
      ]
     },
     "metadata": {
      "needs_background": "light"
     },
     "output_type": "display_data"
    }
   ],
   "source": [
    "struct.plot()"
   ]
  },
  {
   "cell_type": "code",
   "execution_count": 16,
   "metadata": {},
   "outputs": [
    {
     "data": {
      "text/plain": [
       "1.4142135623730951"
      ]
     },
     "execution_count": 16,
     "metadata": {},
     "output_type": "execute_result"
    }
   ],
   "source": [
    "from gefest.core.geometry.geometry_2d import Geometry2D\n",
    "\n",
    "geometry = Geometry2D()\n",
    "\n",
    "point = Point(-1, -1)\n",
    "geometry.centroid_distance(point, triangle)"
   ]
  },
  {
   "cell_type": "code",
   "execution_count": 9,
   "metadata": {},
   "outputs": [
    {
     "data": {
      "image/png": "[encoded data removed]",
      "text/plain": [
       "<Figure size 432x288 with 1 Axes>"
      ]
     },
     "metadata": {
      "needs_background": "light"
     },
     "output_type": "display_data"
    }
   ],
   "source": [
    "from gefest.core.structure.structure import get_random_structure\n",
    "from gefest.core.structure.domain import Domain\n",
    "from gefest.core.viz.struct_vizualizer import StructVizualizer\n",
    "\n",
    "domain = Domain()\n",
    "struct = get_random_structure(domain)\n",
    "viz = StructVizualizer(domain)\n",
    "viz.plot_poly(struct.polygons[0], 'skdks')"
   ]
  },
  {
   "cell_type": "code",
   "execution_count": 7,
   "metadata": {},
   "outputs": [
    {
     "ename": "TypeError",
     "evalue": "get_random_poly() missing 1 required positional argument: 'parent_structure'",
     "output_type": "error",
     "traceback": [
      "\u001b[0;31m---------------------------------------------------------------------------\u001b[0m",
      "\u001b[0;31mTypeError\u001b[0m                                 Traceback (most recent call last)",
      "\u001b[0;32m/var/folders/d7/jvw6zrm531q4bhp6_kft_0740000gn/T/ipykernel_1116/3258400981.py\u001b[0m in \u001b[0;36m<module>\u001b[0;34m\u001b[0m\n\u001b[1;32m      4\u001b[0m \u001b[0;34m\u001b[0m\u001b[0m\n\u001b[1;32m      5\u001b[0m \u001b[0mdomain\u001b[0m \u001b[0;34m=\u001b[0m \u001b[0mDomain\u001b[0m\u001b[0;34m(\u001b[0m\u001b[0;34m)\u001b[0m\u001b[0;34m\u001b[0m\u001b[0;34m\u001b[0m\u001b[0m\n\u001b[0;32m----> 6\u001b[0;31m \u001b[0mstruct\u001b[0m \u001b[0;34m=\u001b[0m \u001b[0mget_random_poly\u001b[0m\u001b[0;34m(\u001b[0m\u001b[0mdomain\u001b[0m\u001b[0;34m=\u001b[0m\u001b[0mdomain\u001b[0m\u001b[0;34m)\u001b[0m\u001b[0;34m\u001b[0m\u001b[0;34m\u001b[0m\u001b[0m\n\u001b[0m\u001b[1;32m      7\u001b[0m \u001b[0mviz\u001b[0m \u001b[0;34m=\u001b[0m \u001b[0mStructVizualizer\u001b[0m\u001b[0;34m(\u001b[0m\u001b[0mdomain\u001b[0m\u001b[0;34m)\u001b[0m\u001b[0;34m\u001b[0m\u001b[0;34m\u001b[0m\u001b[0m\n\u001b[1;32m      8\u001b[0m \u001b[0mviz\u001b[0m\u001b[0;34m.\u001b[0m\u001b[0mplot_poly\u001b[0m\u001b[0;34m(\u001b[0m\u001b[0mstruct\u001b[0m\u001b[0;34m,\u001b[0m \u001b[0;34m'huyna'\u001b[0m\u001b[0;34m)\u001b[0m\u001b[0;34m\u001b[0m\u001b[0;34m\u001b[0m\u001b[0m\n",
      "\u001b[0;31mTypeError\u001b[0m: get_random_poly() missing 1 required positional argument: 'parent_structure'"
     ]
    }
   ],
   "source": [
    "from gefest.core.structure.structure import get_random_poly\n",
    "from gefest.core.structure.domain import Domain\n",
    "from gefest.core.viz.struct_vizualizer import StructVizualizer\n",
    "\n",
    "domain = Domain()\n",
    "struct = get_random_poly(domain=domain)\n",
    "viz = StructVizualizer(domain)\n",
    "viz.plot_poly(struct, 'huyna')"
   ]
  },
  {
   "cell_type": "code",
   "execution_count": null,
   "metadata": {},
   "outputs": [],
   "source": []
  }
 ],
 "metadata": {
  "kernelspec": {
   "display_name": "Python 3.8.12 ('base')",
   "language": "python",
   "name": "python3"
  },
  "language_info": {
   "codemirror_mode": {
    "name": "ipython",
    "version": 3
   },
   "file_extension": ".py",
   "mimetype": "text/x-python",
   "name": "python",
   "nbconvert_exporter": "python",
   "pygments_lexer": "ipython3",
   "version": "3.8.12"
  },
  "orig_nbformat": 4,
  "vscode": {
   "interpreter": {
    "hash": "c40483cf9fe312a70f1687ae29c7780687973d6522a9aa78c84a0c42fa23dbaa"
   }
  }
 },
 "nbformat": 4,
 "nbformat_minor": 2
}
